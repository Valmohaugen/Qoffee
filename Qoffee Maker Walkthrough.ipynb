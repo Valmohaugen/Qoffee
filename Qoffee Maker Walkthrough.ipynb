{
 "cells": [
  {
   "cell_type": "markdown",
   "metadata": {},
   "source": [
    "# Qoffee Maker Walkthrough"
   ]
  },
  {
   "cell_type": "markdown",
   "metadata": {},
   "source": [
    "### Directions\n",
    "\n",
    "Our goal is to obtain 12 different coffee orders utilizing quantum circuits on IBM's Quantum Composer.\n",
    "\n",
    "There are 8 different types of coffee that can be made with this activity and are listed below.\n",
    "\n",
    "Each type of coffee is associated with a different qubit state. \n",
    "\n",
    "The way we obtain different states (coffee types) is by applying different gates. We can read which state we get as a graph of probabilities to determine which which coffee is selected.\n",
    "\n",
    "If, for example, we want a viennese melange, there must be a probability of 100% for the state $\\ket{110}$.\n",
    "\n",
    "If there are orders involving specific directions, then there will have to be different probabilities for the corresponding states. For example, if we want a tea and a viennese melange, then we would have a 50% probability for both $\\ket{000}$ and $\\ket{110}$."
   ]
  },
  {
   "cell_type": "markdown",
   "metadata": {},
   "source": [
    "### Gates\n",
    "This is similar to classical electronic circuits and uses some of the same gates with the addition of new ones that take advantage of quantum mechanics.\n",
    "\n",
    "**Hadamard gate (H):** This is a 1 qubit gate and creates a superposition of the state that the gate is applied to. \n",
    "\n",
    "Applying an H gate on $\\ket{0}$ gives us $\\frac{1}{\\sqrt{2}}(\\ket{0} + \\ket{1})$, which can be simplified to $\\ket{+}$.\n",
    "Applying an H gate on $\\ket{1}$ gives us $\\frac{1}{\\sqrt{2}}(\\ket{0} - \\ket{1})$, which can be simplified to $\\ket{-}$.\n",
    "Normalizing the state gives us a probability of $\\frac{1}{2}$ for each qubit.\n",
    "\n",
    "Similarily, applying an H gate on a 2 qubit state, $\\ket{00}$, gives us $\\frac{1}{2}(\\ket{00} + \\ket{01} + \\ket{10} + \\ket{11})$\n",
    "Normalizing the state gives us a probability of $\\frac{1}{4}$ for each qubit.\n",
    "\n",
    "MATRIX NOTATION\n",
    "\n",
    "\n",
    "\n",
    "**Pauli-X gate (X):** This is a 1 qubit gate and rotates the state around the x-axis by $\\pi$. This is commonly referred to as a \"bit flip\".\n",
    "\n",
    "Applying an X gate on $\\ket{0}$ gives us $\\ket{1}$.\n",
    "Applying an X gate on $\\ket{1}$ gives us $\\ket{0}$.\n",
    "\n",
    "When applying an X gate to 2 qubit state, you must specify which quibt is the target and apply an idenity gate to the other. \n",
    "Applying an X gate on the first qubit of $\\ket{00}$ gives us $\\ket{10}$.\n",
    "Applying an X gate on the second qubit of $\\ket{01}$ gives us $\\ket{00}$.\n",
    "\n",
    "MATRIX NOTATION\n",
    "\n",
    "\n",
    "\n",
    "**Pauli-Z gate (Z):** This is a 1 qubit gate and rotates the state around the z-axis by $\\pi$.\n",
    "\n",
    "Applying a Z gate on $\\ket{0}$ gives us $\\ket{0}$.\n",
    "Applying a Z gate on $\\ket{1}$ gives us $-\\ket{1}$\n",
    "\n",
    "When applying a Z gate to 2 qubit state, you must specify which quibt is the target and apply an idenity gate to the other. \n",
    "Applying a Z gate on the first qubit of $\\ket{10}$ gives us $-\\ket{10}$.\n",
    "Applying a Z gate on the second qubit of $\\ket{10}$ gives us $\\ket{10}$.\n",
    "\n",
    "MATRIX NOTATION\n",
    "\n",
    "\n",
    "\n",
    "**Controlled Pauli-X gate (CX or CNOT):** This is a 2 qubit gate and is equivalent to a classical conditional XOR gate. It takes 2 input qubits: 1 as the control and 1 as the target.\n",
    "\n",
    "If the control qubit is $\\ket{0}$, then the target qubit remains the same.\n",
    "If the control qubit is $\\ket{1}$, then the target qubit has an X gate applied on it.\n",
    "\n",
    "Applying a CX gate on $\\ket{10}$, with the 1 as control and 0 as target, gives us $\\ket{11}$.\n",
    "Applying a CX gate on $\\ket{00}$, with the first 0 as control and the second 0 as target, gives us $\\ket{00}$.\n",
    "\n",
    "MATRIX NOTATION\n",
    "\n",
    "\n",
    "\n",
    "**Toffoli gate (CCX):** This is a 3 qubit gate and is equivalent to a classical AND gate. It takes 3 input qubits: 2 inputs as the controls and 1 as the target. \n",
    "\n",
    "If the control qubits are both in the $\\ket{0}$ state, then the target qubit remains the same.\n",
    "If the control qubits are in the $\\ket{0}$ and $\\ket{1}$ state, then the target qubit remains the same.\n",
    "If the control qubits are both in the $\\ket{1}$ state, then the target qubit has an X gate applied on it.\n",
    "\n",
    "Applying a CCX gate on $\\ket{000}$, with the first 2 0's as controls and the third 0 as target, gives us $\\ket{000}$.\n",
    "Applying a CCX gate on $\\ket{100}$, with the 1 and first 0 as the controls and the second 0, gives us $\\ket{100}$.\n",
    "Applying a CCX gate on $\\ket{110}$, with the 1's as controls and the 0 as target, gives us $\\ket{111}$.\n",
    "\n",
    "MATRIX NOTATION\n",
    "\n",
    "\n",
    "**Swap gate (SWAP):** This is a 2 qubit gate and swaps the positions of the desired qubits. 3 CX gates can be combined to create this gate. \n",
    "\n",
    "Applying an X gate on $\\ket{01}$ gives us $\\ket{10}$.\n",
    "Applying an X gate on $\\ket{10}$ gives us $\\ket{01}$.\n",
    "\n",
    "MATRIX NOTATION"
   ]
  },
  {
   "cell_type": "markdown",
   "metadata": {},
   "source": [
    "### Notes\n",
    "\n",
    "1. No caffeine: Tea and hot chocolate\n",
    "2. Caffeine: Tea, espresso, coffee, cappuccino, latte macchiato, viennese melange, americano\n",
    "2. Not too strong caffeine: Cappuccino and latte macchiato\n",
    "\n",
    "3. High caffeine content but without milk: Espresso and americano"
   ]
  },
  {
   "cell_type": "markdown",
   "metadata": {},
   "source": [
    "### Types of Coffee\n",
    "1. Tea \n",
    "2. Hot chocolate\n",
    "3. Espresso\n",
    "4. Coffee\n",
    "5. Cappuccino\n",
    "6. Latte Macchiato\n",
    "7. Viennese Melange\n",
    "8. Americano"
   ]
  },
  {
   "cell_type": "markdown",
   "metadata": {},
   "source": [
    "### The orders\n",
    "1.  I want a cappuccino.\n",
    "2.  No caffeine, please.\n",
    "3.  I want tea or coffee.\n",
    "4.  I want something to drink, it doesn't matter what.\n",
    "5.  I want something with caffeine, but not too strong.\n",
    "6.  I want an Espresso using single-qubit gates only on q0.\n",
    "7.  I want a regular coffee but want to use only one X gate (plus other gates as needed).\n",
    "8.  I want tea or something strong, but I prefer tea. \n",
    "9.  I want something strong, but preferably an espresso.\n",
    "10.  I want something with caffeine.\n",
    "11.  I want either something without caffeine or something with much caffeine but without milk (CCX gate).\n",
    "12.  I want something to drink, it doesn't matter what, preferably a coffee, but no americano."
   ]
  },
  {
   "cell_type": "code",
   "execution_count": 33,
   "metadata": {},
   "outputs": [],
   "source": [
    "from qiskit import *\n",
    "from qiskit.visualization import plot_histogram\n",
    "import numpy as np\n",
    "from qiskit_ibm_runtime import Session, SamplerV2 as Sampler, QiskitRuntimeService\n",
    "from qiskit_aer import AerSimulator"
   ]
  },
  {
   "cell_type": "code",
   "execution_count": null,
   "metadata": {},
   "outputs": [],
   "source": []
  }
 ],
 "metadata": {
  "kernelspec": {
   "display_name": "qc",
   "language": "python",
   "name": "python3"
  },
  "language_info": {
   "codemirror_mode": {
    "name": "ipython",
    "version": 3
   },
   "file_extension": ".py",
   "mimetype": "text/x-python",
   "name": "python",
   "nbconvert_exporter": "python",
   "pygments_lexer": "ipython3",
   "version": "3.12.7"
  }
 },
 "nbformat": 4,
 "nbformat_minor": 2
}
